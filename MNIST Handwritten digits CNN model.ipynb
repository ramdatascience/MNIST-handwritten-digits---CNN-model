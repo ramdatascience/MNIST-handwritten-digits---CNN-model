{
 "cells": [
  {
   "cell_type": "code",
   "execution_count": 30,
   "metadata": {},
   "outputs": [],
   "source": [
    "import matplotlib.pyplot as plt\n",
    "from keras.datasets import mnist\n",
    "from keras.models import Sequential\n",
    "from keras.layers import Dense, Dropout, Activation, Flatten\n",
    "from keras.layers.normalization import BatchNormalization\n",
    "from keras.utils import np_utils\n",
    "from keras.layers import Conv2D, MaxPooling2D\n",
    "from keras.preprocessing.image import ImageDataGenerator"
   ]
  },
  {
   "cell_type": "code",
   "execution_count": 31,
   "metadata": {},
   "outputs": [
    {
     "name": "stdout",
     "output_type": "stream",
     "text": [
      "X_train original shape (60000, 28, 28)\n",
      "y_train original shape (60000,)\n",
      "X_test original shape (10000, 28, 28)\n",
      "y_test original shape (10000,)\n"
     ]
    }
   ],
   "source": [
    "#we can load the MNIST dataset from Keras datasets\n",
    "#60.000 training samples and 10.000 images in test set\n",
    "(X_train, y_train), (X_test, y_test) = mnist.load_data()\n",
    "print(\"X_train original shape\", X_train.shape)\n",
    "print(\"y_train original shape\", y_train.shape)\n",
    "print(\"X_test original shape\", X_test.shape)\n",
    "print(\"y_test original shape\", y_test.shape)"
   ]
  },
  {
   "cell_type": "code",
   "execution_count": 32,
   "metadata": {},
   "outputs": [
    {
     "data": {
      "image/png": "[encoded data removed]",
      "text/plain": [
       "<matplotlib.figure.Figure at 0x2b82785deb8>"
      ]
     },
     "metadata": {
      "needs_background": "light"
     },
     "output_type": "display_data"
    }
   ],
   "source": [
    "#let's polit a grayscale image with the label\n",
    "plt.imshow(X_train[2], cmap='gray')\n",
    "plt.title('Class '+ str(y_train[2]))\n",
    "\n",
    "#tensorflow can handle format: (batch,height,width,channel)\n",
    "features_train = X_train.reshape(X_train.shape[0], 28, 28, 1)\n",
    "features_test = X_test.reshape(X_test.shape[0], 28, 28, 1)\n",
    "\n",
    "features_train = features_train.astype('float32')\n",
    "features_test = features_test.astype('float32')"
   ]
  },
  {
   "cell_type": "code",
   "execution_count": 33,
   "metadata": {},
   "outputs": [],
   "source": [
    "#very similar to min-max normalization: we transform the values\n",
    "#within the range [0,1] as usual\n",
    "features_train/=255\n",
    "features_test/=255\n",
    "\n",
    "#we have 10 output classes we want to end up with one hot\n",
    "#encoding as we have seen for the Iris-dataset\n",
    "# 2 -> [0 0 1 0 0 0 0 0 0 0 ]\n",
    "targets_train = np_utils.to_categorical(y_train, 10)\n",
    "targets_test = np_utils.to_categorical(y_test, 10)"
   ]
  },
  {
   "cell_type": "code",
   "execution_count": 34,
   "metadata": {},
   "outputs": [],
   "source": [
    "#Building the Convolutional Neural Network (CNN)\n",
    "model = Sequential()\n",
    "\n",
    "#input is a 28x28 pixels image\n",
    "#32 is the number of filters - (3,3) size of the filter\n",
    "model.add(Conv2D(32, (3, 3), input_shape=(28,28,1)))\n",
    "model.add(Activation('relu'))\n",
    "#normalizing the activations in the previous layer after the convolutional phase\n",
    "#transformation maintains the mean activation close to 0 std close to 1\n",
    "#the scale of each dimension remains the same\n",
    "#reduces running-time of training significantly\n",
    "model.add(BatchNormalization())\n",
    "model.add(Conv2D(32, (3, 3)))\n",
    "model.add(Activation('relu'))\n",
    "model.add(MaxPooling2D(pool_size=(2,2)))\n",
    "model.add(BatchNormalization())\n",
    "model.add(Conv2D(64,(3, 3)))\n",
    "model.add(Activation('relu'))\n",
    "model.add(BatchNormalization())\n",
    "model.add(Conv2D(64, (3, 3)))\n",
    "model.add(Activation('relu'))\n",
    "model.add(MaxPooling2D(pool_size=(2,2)))\n",
    "#flattening layer \n",
    "model.add(Flatten())\n",
    "# Fully connected layer\n",
    "model.add(BatchNormalization())\n",
    "model.add(Dense(512))\n",
    "model.add(Activation('relu'))\n",
    "model.add(BatchNormalization())\n",
    "#regularization helps to avoid overfitting\n",
    "model.add(Dropout(0.3))\n",
    "model.add(Dense(10,activation=\"softmax\"))\n",
    "#multiclass classification: cross-entropy loss-function with ADAM optimizer\n",
    "model.compile(loss='categorical_crossentropy', optimizer=\"adam\", metrics=['accuracy'])\n"
   ]
  },
  {
   "cell_type": "code",
   "execution_count": 36,
   "metadata": {},
   "outputs": [
    {
     "name": "stdout",
     "output_type": "stream",
     "text": [
      "Train on 60000 samples, validate on 10000 samples\n",
      "Epoch 1/2\n",
      "60000/60000 [==============================] - 669s 11ms/step - loss: 0.1012 - acc: 0.9689 - val_loss: 0.0354 - val_acc: 0.9884\n",
      "Epoch 2/2\n",
      "60000/60000 [==============================] - 899s 15ms/step - loss: 0.0346 - acc: 0.9891 - val_loss: 0.0283 - val_acc: 0.9899\n",
      "10000/10000 [==============================] - 41s 4ms/step\n",
      "Test accuracy: 0.99\n"
     ]
    }
   ],
   "source": [
    "model.fit(features_train, targets_train, batch_size=128, epochs=2, validation_data=(features_test,targets_test), verbose=1)\n",
    "\n",
    "score = model.evaluate(features_test, targets_test)\n",
    "print('Test accuracy: %.2f' % score[1])\n"
   ]
  },
  {
   "cell_type": "code",
   "execution_count": null,
   "metadata": {},
   "outputs": [],
   "source": []
  }
 ],
 "metadata": {
  "kernelspec": {
   "display_name": "Python 3",
   "language": "python",
   "name": "python3"
  },
  "language_info": {
   "codemirror_mode": {
    "name": "ipython",
    "version": 3
   },
   "file_extension": ".py",
   "mimetype": "text/x-python",
   "name": "python",
   "nbconvert_exporter": "python",
   "pygments_lexer": "ipython3",
   "version": "3.6.4"
  }
 },
 "nbformat": 4,
 "nbformat_minor": 2
}
